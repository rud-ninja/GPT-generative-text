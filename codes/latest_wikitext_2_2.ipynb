{
  "nbformat": 4,
  "nbformat_minor": 0,
  "metadata": {
    "colab": {
      "provenance": [],
      "gpuType": "T4"
    },
    "kernelspec": {
      "name": "python3",
      "display_name": "Python 3"
    },
    "language_info": {
      "name": "python"
    },
    "accelerator": "GPU"
  },
  "cells": [
    {
      "cell_type": "code",
      "source": [
        "# for text wrap in colab window\n",
        "\n",
        "from IPython.display import HTML, display\n",
        "\n",
        "def set_css():\n",
        "  display(HTML('''\n",
        "  <style>\n",
        "    pre {\n",
        "        white-space: pre-wrap;\n",
        "    }\n",
        "  </style>\n",
        "  '''))\n",
        "get_ipython().events.register('pre_run_cell', set_css)"
      ],
      "metadata": {
        "id": "4UYCbN16AU8p"
      },
      "execution_count": null,
      "outputs": []
    },
    {
      "cell_type": "code",
      "source": [
        "# required to use torchtext\n",
        "pip install portalocker"
      ],
      "metadata": {
        "colab": {
          "base_uri": "https://localhost:8080/",
          "height": 86
        },
        "id": "2-WpctdZV9ED",
        "outputId": "12d6f3aa-533e-4c2c-d44f-3c86bce82b66"
      },
      "execution_count": null,
      "outputs": [
        {
          "output_type": "display_data",
          "data": {
            "text/plain": [
              "<IPython.core.display.HTML object>"
            ],
            "text/html": [
              "\n",
              "  <style>\n",
              "    pre {\n",
              "        white-space: pre-wrap;\n",
              "    }\n",
              "  </style>\n",
              "  "
            ]
          },
          "metadata": {}
        },
        {
          "output_type": "stream",
          "name": "stdout",
          "text": [
            "Collecting portalocker\n",
            "  Downloading portalocker-2.8.2-py3-none-any.whl (17 kB)\n",
            "Installing collected packages: portalocker\n",
            "Successfully installed portalocker-2.8.2\n"
          ]
        }
      ]
    },
    {
      "cell_type": "code",
      "execution_count": null,
      "metadata": {
        "id": "YHYAe3HDS7tc",
        "colab": {
          "base_uri": "https://localhost:8080/",
          "height": 17
        },
        "outputId": "35bc1ded-78b1-4ad8-9d96-fb095ff7973d"
      },
      "outputs": [
        {
          "output_type": "display_data",
          "data": {
            "text/plain": [
              "<IPython.core.display.HTML object>"
            ],
            "text/html": [
              "\n",
              "  <style>\n",
              "    pre {\n",
              "        white-space: pre-wrap;\n",
              "    }\n",
              "  </style>\n",
              "  "
            ]
          },
          "metadata": {}
        }
      ],
      "source": [
        "import re\n",
        "from torchtext.datasets import WikiText2\n",
        "import portalocker.utils as portalocker"
      ]
    },
    {
      "cell_type": "markdown",
      "source": [
        "# Get data"
      ],
      "metadata": {
        "id": "A3tS_5MQn9MD"
      }
    },
    {
      "cell_type": "code",
      "source": [
        "# train, validation and test split\n",
        "training, validation, testing = WikiText2(root = '.data', split = ('train', 'valid', 'test'))"
      ],
      "metadata": {
        "colab": {
          "base_uri": "https://localhost:8080/",
          "height": 17
        },
        "id": "D3-5yp2J_Yss",
        "outputId": "e7a3fd61-b802-41ce-b87a-8dafa1630bd0"
      },
      "execution_count": null,
      "outputs": [
        {
          "output_type": "display_data",
          "data": {
            "text/plain": [
              "<IPython.core.display.HTML object>"
            ],
            "text/html": [
              "\n",
              "  <style>\n",
              "    pre {\n",
              "        white-space: pre-wrap;\n",
              "    }\n",
              "  </style>\n",
              "  "
            ]
          },
          "metadata": {}
        }
      ]
    },
    {
      "cell_type": "code",
      "source": [
        "# Text cleaning:\n",
        "# Wikitext comes with some defined symbol notations, e.g. @-@ denotes a hyphen, @.@ denotes a decimal point\n",
        "# I have normalized the above into regular symbols.\n",
        "# <unk> words have been retained as removal caused loss of contextual information\n",
        "\n",
        "text1 = \"\"\n",
        "text2 = \"\"\n",
        "text3 = \"\"\n",
        "\n",
        "def text_getter(dpipe):\n",
        "    text = \"\"\n",
        "    for i in dpipe:\n",
        "        # tmp = i.replace(\"<unk>\", \"\")\n",
        "        # tmp = tmp.replace(\"<formula>\", \"\")\n",
        "        tmp = i.replace(\"@.@\", \" . \")\n",
        "        tmp = tmp.replace(\"@-@\", \" - \")\n",
        "        tmp = tmp.replace(\"@,@\", \" , \")\n",
        "        tmp = re.sub(r'[–—-]', '-', tmp)\n",
        "        tmp = re.sub(r'[•・･]', '•', tmp)\n",
        "        tmp = re.sub(r'[“”]', '\"', tmp)\n",
        "        tmp = re.sub(r'[‘’]', \"'\", tmp)\n",
        "        pattern = r'[^\\w\\-•:},\\[){(°₹£$¥₡€～′″\\'\",+＝*÷%|…!.∕;@\\\\?&_ \\s]'\n",
        "        tmp = re.sub(pattern, '', tmp)\n",
        "        tmp = re.sub(r'(?<!\\n) +| +(?=\\n)|(?<=\\n) +', ' ', tmp)\n",
        "\n",
        "        text+=tmp\n",
        "        del tmp\n",
        "    return text\n",
        "\n",
        "\n",
        "text1 = text_getter(training)\n",
        "text2 = text_getter(validation)\n",
        "text3 = text_getter(testing)\n",
        "del training, validation, testing\n",
        "\n",
        "\n",
        "# Using train + validation data as training data and test as validation data.\n",
        "# There is no \"test\" data as the aim is to create an auto regressive text generator.\n",
        "train = text1 + text2\n",
        "valid = text3\n",
        "\n",
        "full_text = train + valid\n",
        "\n",
        "del text1, text2, text3"
      ],
      "metadata": {
        "colab": {
          "base_uri": "https://localhost:8080/",
          "height": 17
        },
        "id": "SRYRazDnQ6Sd",
        "outputId": "e275c5eb-1529-4ea3-a52d-35267bbe7772"
      },
      "execution_count": null,
      "outputs": [
        {
          "output_type": "display_data",
          "data": {
            "text/plain": [
              "<IPython.core.display.HTML object>"
            ],
            "text/html": [
              "\n",
              "  <style>\n",
              "    pre {\n",
              "        white-space: pre-wrap;\n",
              "    }\n",
              "  </style>\n",
              "  "
            ]
          },
          "metadata": {}
        }
      ]
    },
    {
      "cell_type": "markdown",
      "source": [
        "# Tokenize and encode text"
      ],
      "metadata": {
        "id": "rXoHuu6roICT"
      }
    },
    {
      "cell_type": "code",
      "source": [
        "import torch\n",
        "import torch.nn as nn\n",
        "from torch.nn import functional as F\n",
        "from tokenizers import ByteLevelBPETokenizer"
      ],
      "metadata": {
        "colab": {
          "base_uri": "https://localhost:8080/",
          "height": 17
        },
        "id": "_ZY6EsA0_U4X",
        "outputId": "13233ea7-15fd-40ff-85f2-4509a8463530"
      },
      "execution_count": null,
      "outputs": [
        {
          "output_type": "display_data",
          "data": {
            "text/plain": [
              "<IPython.core.display.HTML object>"
            ],
            "text/html": [
              "\n",
              "  <style>\n",
              "    pre {\n",
              "        white-space: pre-wrap;\n",
              "    }\n",
              "  </style>\n",
              "  "
            ]
          },
          "metadata": {}
        }
      ]
    },
    {
      "cell_type": "code",
      "source": [
        "# creating a tokenizer object and fitting to train data with maximum tokens as 500 (vocabulary size)\n",
        "# larger vocabulary sizes (>=1000) can learn more nuanced relationships between words but is prone to overfitting\n",
        "# whereas the opposite, i.e. smaller vocab sizes (<100) cannot learn contextual information properly (underfitting)\n",
        "tokenizer = ByteLevelBPETokenizer()\n",
        "vocab_size = 500\n",
        "tokenizer.train_from_iterator([full_text], vocab_size=vocab_size, min_frequency=2)"
      ],
      "metadata": {
        "id": "lx-8YDqyjWXK",
        "colab": {
          "base_uri": "https://localhost:8080/",
          "height": 17
        },
        "outputId": "9fde8cbc-33ca-442a-95c9-9a02621fe6bf"
      },
      "execution_count": null,
      "outputs": [
        {
          "output_type": "display_data",
          "data": {
            "text/plain": [
              "<IPython.core.display.HTML object>"
            ],
            "text/html": [
              "\n",
              "  <style>\n",
              "    pre {\n",
              "        white-space: pre-wrap;\n",
              "    }\n",
              "  </style>\n",
              "  "
            ]
          },
          "metadata": {}
        }
      ]
    },
    {
      "cell_type": "code",
      "source": [
        "# converting words to numbers using above tokenizer\n",
        "train_data = torch.tensor(tokenizer.encode(train).ids, dtype=torch.long)\n",
        "valid_data = torch.tensor(tokenizer.encode(valid).ids, dtype=torch.long)"
      ],
      "metadata": {
        "colab": {
          "base_uri": "https://localhost:8080/",
          "height": 17
        },
        "id": "1CFAGFqKTi9U",
        "outputId": "e318e1ec-640f-482c-f2a8-9222b5cfb217"
      },
      "execution_count": null,
      "outputs": [
        {
          "output_type": "display_data",
          "data": {
            "text/plain": [
              "<IPython.core.display.HTML object>"
            ],
            "text/html": [
              "\n",
              "  <style>\n",
              "    pre {\n",
              "        white-space: pre-wrap;\n",
              "    }\n",
              "  </style>\n",
              "  "
            ]
          },
          "metadata": {}
        }
      ]
    },
    {
      "cell_type": "markdown",
      "source": [
        "# Data modelling"
      ],
      "metadata": {
        "id": "N9UVOdjkoROb"
      }
    },
    {
      "cell_type": "code",
      "source": [
        "block_size = 128    # context length\n",
        "batch_size = 128    # number of batches of context\n",
        "n_embd = 512        # embedding dimensions of each token\n",
        "ma_head = 8         # no. attention heads for each token\n",
        "n_blocks = 4        # no. of blocks of attention + feed-forward\n",
        "eval_iters = 100    # no. of random checks to estimate average loss\n",
        "learning_rate = 3e-3\n",
        "max_iters = 6000\n",
        "eval_interval = 500\n",
        "device = \"cuda\" if  torch.cuda.is_available() else \"cpu\"\n",
        "dropout = 0.2"
      ],
      "metadata": {
        "colab": {
          "base_uri": "https://localhost:8080/",
          "height": 17
        },
        "id": "addL1x8PoVb7",
        "outputId": "153869f3-71a1-4d7f-b5b0-89b96ed7f86a"
      },
      "execution_count": null,
      "outputs": [
        {
          "output_type": "display_data",
          "data": {
            "text/plain": [
              "<IPython.core.display.HTML object>"
            ],
            "text/html": [
              "\n",
              "  <style>\n",
              "    pre {\n",
              "        white-space: pre-wrap;\n",
              "    }\n",
              "  </style>\n",
              "  "
            ]
          },
          "metadata": {}
        }
      ]
    },
    {
      "cell_type": "code",
      "source": [
        "torch.manual_seed(9)\n",
        "\n",
        "\n",
        "# The entire context of \"block_size\" is split into its constituent contexts, as in token t1 (x) is context for t2 (y)\n",
        "# [t1, t2] (x) are context for t3 (y) and so on, generating block_size - 1 contexts. This is a single batch.\n",
        "# get_batch() extracts a segment of text from random locations and returns a batch of x and y\n",
        "def get_batch(split):\n",
        "\n",
        "    data = train_data if split==\"train\" else valid_data\n",
        "    indx = torch.randint(len(data) - block_size, (batch_size,))\n",
        "    x = torch.stack([data[i: i+block_size] for i in indx])\n",
        "    y = torch.stack([data[i+1: i+block_size+1] for i in indx])\n",
        "    x, y = x.to(device), y.to(device)\n",
        "    return x, y\n",
        "\n",
        "\n",
        "# loss etimation from multiple number of randomly chosen contexts\n",
        "@torch.no_grad()\n",
        "def estimate_loss():\n",
        "    out = {}\n",
        "    model.eval()\n",
        "    for split in [\"train\", \"valid\"]:\n",
        "        losses = torch.zeros(eval_iters)\n",
        "        for k in range(eval_iters):\n",
        "            X, Y = get_batch(split)\n",
        "            logits, loss = model(X, Y)\n",
        "            losses[k] = loss.item()\n",
        "        out[split] = losses.mean()\n",
        "    model.train()\n",
        "    return out\n",
        "\n",
        "\n",
        "\n",
        "# class Head() performs the scaled-masked attention over a single head\n",
        "# masked - to consider information only from the past until current position\n",
        "# scaled - to provide a diffused input for the softmax function, so that it doesn't peak at a single point (keeping the system probabilistic)\n",
        "class Head(nn.Module):\n",
        "\n",
        "    def __init__(self, head_size):\n",
        "        super().__init__()\n",
        "        self.key = nn.Linear(n_embd, head_size, bias=False)\n",
        "        self.query = nn.Linear(n_embd, head_size, bias=False)\n",
        "        self.value = nn.Linear(n_embd, head_size, bias=False)\n",
        "        self.register_buffer('tril', torch.tril(torch.ones(block_size, block_size)))\n",
        "        self.dropout = nn.Dropout(dropout)\n",
        "\n",
        "    def forward(self, x):\n",
        "        B, T, C = x.shape\n",
        "        # generating keys & queries of head_size\n",
        "        k = self.key(x)\n",
        "        q = self.query(x)\n",
        "\n",
        "        # wei determines the importance to be given to each token based on key & query\n",
        "        wei = q @ k.transpose(-2, -1) * C**-0.5\n",
        "        wei = wei.masked_fill(self.tril[:T, :T]==0, float('-inf'))\n",
        "        wei = F.softmax(wei, dim=-1)\n",
        "        wei = self.dropout(wei)\n",
        "\n",
        "        # an abstracted representation of the original values\n",
        "        v = self.value(x)\n",
        "        out = wei @ v\n",
        "\n",
        "        return out\n",
        "\n",
        "\n",
        "# to perform the  attention from above over multiple instances\n",
        "class MultiHeadAttention(nn.Module):\n",
        "\n",
        "    def __init__(self, num_heads, head_size):\n",
        "        super().__init__()\n",
        "        self.heads = nn.ModuleList([Head(head_size) for _ in range(num_heads)])\n",
        "        self.proj = nn.Linear(n_embd, n_embd)   # projection into residual path\n",
        "        self.dropout = nn.Dropout(dropout)\n",
        "\n",
        "    def forward(self, x):\n",
        "        out = torch.cat([h(x) for h in self.heads], dim=-1)\n",
        "        out = self.dropout(self.proj(out))\n",
        "        return out\n",
        "\n",
        "\n",
        "# a feed forward block between the attention block and the output\n",
        "class FeedForward(nn.Module):\n",
        "\n",
        "    def __init__(self, n_embd):\n",
        "        super().__init__()\n",
        "        self.net = nn.Sequential(\n",
        "            nn.Linear(n_embd, 4*n_embd),\n",
        "            nn.ReLU(),\n",
        "            nn.Linear(4*n_embd, n_embd),    # projection into residual path\n",
        "            nn.Dropout(dropout)\n",
        "        )\n",
        "\n",
        "    def forward(self, x):\n",
        "        return self.net(x)\n",
        "\n",
        "\n",
        "# creating a composite block of (attention + feed forward) for repetition\n",
        "class Block(nn.Module):\n",
        "\n",
        "    def __init__(self, n_embd, n_head):\n",
        "        super().__init__()\n",
        "        head_size = n_embd // n_head\n",
        "        self.sa = MultiHeadAttention(n_head, head_size)\n",
        "        self.ffwd = FeedForward(n_embd)\n",
        "        self.ln1 = nn.LayerNorm(n_embd)\n",
        "        self.ln2 = nn.LayerNorm(n_embd)\n",
        "\n",
        "    def forward(self, x):\n",
        "        x = x + self.sa(self.ln1(x))\n",
        "        x = x + self.ffwd(self.ln2(x))\n",
        "        return x\n",
        "\n",
        "\n",
        "\n",
        "class BigramLanguageModel(nn.Module):\n",
        "\n",
        "    def __init__(self, vocab_size):\n",
        "        super().__init__()\n",
        "        # embedding each token to n_embd dimensions\n",
        "        self.token_embedding_table = nn.Embedding(vocab_size, n_embd)\n",
        "        # embedding each position in context length to n_embd dimensions\n",
        "        self.position_embedding_table = nn.Embedding(block_size, n_embd)\n",
        "        self.blocks = nn.Sequential(*[Block(n_embd, n_head=ma_head) for _ in range(n_blocks)])\n",
        "        self.ln_f = nn.LayerNorm(n_embd)\n",
        "        # the token embedding table essentially serving as the logits via a linear layer\n",
        "        self.lm_head = nn.Linear(n_embd, vocab_size)\n",
        "\n",
        "\n",
        "    def forward(self, idx, targets=None):\n",
        "        B, T = idx.shape\n",
        "        tok_embd = self.token_embedding_table(idx)\n",
        "        pos_embd = self.position_embedding_table(torch.arange(T, device=device))\n",
        "        x = tok_embd + pos_embd\n",
        "        x = self.blocks(x)\n",
        "        x = self.ln_f(x)\n",
        "        logits = self.lm_head(x)\n",
        "\n",
        "        if targets==None:\n",
        "            loss = None\n",
        "        else:\n",
        "            B, T, C = logits.shape\n",
        "            logits = logits.view(B*T, C)\n",
        "            targets = targets.view(B*T)\n",
        "            loss = F.cross_entropy(logits, targets)\n",
        "\n",
        "        return logits, loss\n",
        "\n",
        "    # generate functionfor\n",
        "    def generate(self, idx, max_new_tokens):\n",
        "\n",
        "        for _ in range(max_new_tokens):\n",
        "            idx_cond = idx[:, -block_size:]\n",
        "            logits, loss = self(idx_cond)\n",
        "            logits = logits[:, -1, :]\n",
        "            probs = F.softmax(logits, dim=-1)\n",
        "            idx_next = torch.multinomial(probs, num_samples=1)\n",
        "            idx = torch.cat((idx, idx_next), dim=1)\n",
        "\n",
        "        return idx\n",
        "\n",
        "\n",
        "model = BigramLanguageModel(vocab_size)\n",
        "model = model.to(device)\n",
        "\n",
        "# weight decay parameter adds L2 regularization\n",
        "optimizer = torch.optim.AdamW(model.parameters(), lr=learning_rate, weight_decay=1e-4)\n",
        "# learning rate scheduler steps down learning rate\n",
        "scheduler = torch.optim.lr_scheduler.StepLR(optimizer, step_size=300, gamma=0.8)\n",
        "\n",
        "for iter in range(1, max_iters+1):\n",
        "\n",
        "    if iter==1 or iter%eval_interval==0:\n",
        "        losses = estimate_loss()\n",
        "        print(f\"step {iter}: train loss {losses['train']:.4f}, val loss {losses['valid']:.4f}\")\n",
        "\n",
        "    elif iter%100==0:\n",
        "        print(f\"step {iter}\")\n",
        "\n",
        "    xb, yb = get_batch('train')\n",
        "\n",
        "    logits, loss = model(xb, yb)\n",
        "    optimizer.zero_grad(set_to_none=True)\n",
        "    loss.backward()\n",
        "    optimizer.step()\n"
      ],
      "metadata": {
        "colab": {
          "base_uri": "https://localhost:8080/",
          "height": 1000
        },
        "id": "ArEekCvq4vG6",
        "outputId": "f438f5de-a841-4f1d-b4da-6d79f552f52a"
      },
      "execution_count": null,
      "outputs": [
        {
          "output_type": "display_data",
          "data": {
            "text/plain": [
              "<IPython.core.display.HTML object>"
            ],
            "text/html": [
              "\n",
              "  <style>\n",
              "    pre {\n",
              "        white-space: pre-wrap;\n",
              "    }\n",
              "  </style>\n",
              "  "
            ]
          },
          "metadata": {}
        },
        {
          "output_type": "stream",
          "name": "stdout",
          "text": [
            "step 1: train loss 6.3845, val loss 6.3910\n",
            "step 100\n",
            "step 200\n",
            "step 300\n",
            "step 400\n",
            "step 500: train loss 2.6930, val loss 2.6746\n",
            "step 600\n",
            "step 700\n",
            "step 800\n",
            "step 900\n",
            "step 1000: train loss 2.4551, val loss 2.4772\n",
            "step 1100\n",
            "step 1200\n",
            "step 1300\n",
            "step 1400\n",
            "step 1500: train loss 2.3309, val loss 2.3839\n",
            "step 1600\n",
            "step 1700\n",
            "step 1800\n",
            "step 1900\n",
            "step 2000: train loss 2.2447, val loss 2.3187\n",
            "step 2100\n",
            "step 2200\n",
            "step 2300\n",
            "step 2400\n",
            "step 2500: train loss 2.1866, val loss 2.2850\n",
            "step 2600\n",
            "step 2700\n",
            "step 2800\n",
            "step 2900\n",
            "step 3000: train loss 2.1391, val loss 2.2547\n",
            "step 3100\n",
            "step 3200\n",
            "step 3300\n",
            "step 3400\n",
            "step 3500: train loss 2.1051, val loss 2.2368\n",
            "step 3600\n",
            "step 3700\n",
            "step 3800\n",
            "step 3900\n",
            "step 4000: train loss 2.0738, val loss 2.2255\n",
            "step 4100\n",
            "step 4200\n",
            "step 4300\n",
            "step 4400\n",
            "step 4500: train loss 2.0473, val loss 2.1972\n",
            "step 4600\n",
            "step 4700\n",
            "step 4800\n",
            "step 4900\n",
            "step 5000: train loss 2.0209, val loss 2.1912\n",
            "step 5100\n",
            "step 5200\n",
            "step 5300\n",
            "step 5400\n",
            "step 5500: train loss 2.0079, val loss 2.1811\n",
            "step 5600\n",
            "step 5700\n",
            "step 5800\n",
            "step 5900\n",
            "step 6000: train loss 1.9850, val loss 2.1637\n"
          ]
        }
      ]
    },
    {
      "cell_type": "code",
      "source": [
        "# generating new tokens starting with 0 index token as input\n",
        "context = torch.zeros((1, 1), dtype=torch.long, device=device)\n",
        "print(tokenizer.decode(model.generate(context, max_new_tokens=200)[0].tolist()))"
      ],
      "metadata": {
        "id": "fa8wYLCkF4RQ",
        "colab": {
          "base_uri": "https://localhost:8080/",
          "height": 86
        },
        "outputId": "d15bdca3-16d5-4615-f00a-6e2a4dd96d22"
      },
      "execution_count": null,
      "outputs": [
        {
          "output_type": "display_data",
          "data": {
            "text/plain": [
              "<IPython.core.display.HTML object>"
            ],
            "text/html": [
              "\n",
              "  <style>\n",
              "    pre {\n",
              "        white-space: pre-wrap;\n",
              "    }\n",
              "  </style>\n",
              "  "
            ]
          },
          "metadata": {}
        },
        {
          "output_type": "stream",
          "name": "stdout",
          "text": [
            "! a superiority of human City , court - the court is the best of shoping in fourth century and installment tourists in the ethnic public . This event was was turned to complete reporter , focusing its character in vein , better and insane and not onward . The creation of the leldest of Croatian depict Morning program . A widow of the castrop , he substances he banned the past . I you know , but you tokin the conspiracy as a human shall like , Italy\n"
          ]
        }
      ]
    },
    {
      "cell_type": "code",
      "source": [
        "# generating new tokens starting with random index token as input\n",
        "context = torch.randint(0, 500, (1, 1), dtype=torch.long, device=device)\n",
        "print(tokenizer.decode(model.generate(context, max_new_tokens=200)[0].tolist()))"
      ],
      "metadata": {
        "colab": {
          "base_uri": "https://localhost:8080/",
          "height": 86
        },
        "id": "it4lu5TTAlPq",
        "outputId": "f84161a5-4399-4e64-bd6f-839d1cb49b7b"
      },
      "execution_count": null,
      "outputs": [
        {
          "output_type": "display_data",
          "data": {
            "text/plain": [
              "<IPython.core.display.HTML object>"
            ],
            "text/html": [
              "\n",
              "  <style>\n",
              "    pre {\n",
              "        white-space: pre-wrap;\n",
              "    }\n",
              "  </style>\n",
              "  "
            ]
          },
          "metadata": {}
        },
        {
          "output_type": "stream",
          "name": "stdout",
          "text": [
            "lection of the Winhes . These pure companies added tropical charges by a rain at grasses combined for making markets , and the tracker 's Day Sisters ' Tide television cents . In the seventh street group of the foot , Miss Soky Railway , follows the merge in trap into it in the wind . About 110 people of Meyer - Germany , helps unk the unk Missouri push hospital the Yugoslav Bridge . The Flower Bridgeon is\n"
          ]
        }
      ]
    },
    {
      "cell_type": "code",
      "source": [
        "torch.save(model.state_dict(), \"/content/llmodel.pt\")"
      ],
      "metadata": {
        "colab": {
          "base_uri": "https://localhost:8080/",
          "height": 17
        },
        "id": "yUxWBhq2zf3g",
        "outputId": "90359013-27b1-42dd-b69d-7e6ab03ccc00"
      },
      "execution_count": null,
      "outputs": [
        {
          "output_type": "display_data",
          "data": {
            "text/plain": [
              "<IPython.core.display.HTML object>"
            ],
            "text/html": [
              "\n",
              "  <style>\n",
              "    pre {\n",
              "        white-space: pre-wrap;\n",
              "    }\n",
              "  </style>\n",
              "  "
            ]
          },
          "metadata": {}
        }
      ]
    },
    {
      "cell_type": "code",
      "source": [
        "tokenizer.save(\"/content/bpe.tokenizer.json\")"
      ],
      "metadata": {
        "id": "KQoDGyRN3DBF",
        "colab": {
          "base_uri": "https://localhost:8080/",
          "height": 17
        },
        "outputId": "8152156a-7e4b-4b95-a815-614c32b45200"
      },
      "execution_count": null,
      "outputs": [
        {
          "output_type": "display_data",
          "data": {
            "text/plain": [
              "<IPython.core.display.HTML object>"
            ],
            "text/html": [
              "\n",
              "  <style>\n",
              "    pre {\n",
              "        white-space: pre-wrap;\n",
              "    }\n",
              "  </style>\n",
              "  "
            ]
          },
          "metadata": {}
        }
      ]
    },
    {
      "cell_type": "code",
      "source": [],
      "metadata": {
        "id": "KTlu0KzobNeJ"
      },
      "execution_count": null,
      "outputs": []
    }
  ]
}